{
 "cells": [
  {
   "cell_type": "code",
   "execution_count": 1,
   "metadata": {},
   "outputs": [],
   "source": [
    "import random"
   ]
  },
  {
   "cell_type": "code",
   "execution_count": 2,
   "metadata": {},
   "outputs": [],
   "source": [
    "#Function to get the values of the grid\n",
    "def get_box(board, row, col):\n",
    "    box_row = (row // 3) * 3\n",
    "    box_col = (col // 3) * 3\n",
    "    return {board[box_row + i][box_col + j] for i in range(3) for j in range(3)}\n"
   ]
  },
  {
   "cell_type": "code",
   "execution_count": 3,
   "metadata": {},
   "outputs": [],
   "source": [
    "#Function to find the unused value\n",
    "def get_value(board, row, col):\n",
    "    used = set(board[row]) | {board[i][col] for i in range(9)} | get_box(board, row, col)\n",
    "    return [i for i in range(1, 10) if i not in used]"
   ]
  },
  {
   "cell_type": "code",
   "execution_count": 4,
   "metadata": {},
   "outputs": [],
   "source": [
    "#Function to generate board \n",
    "#values are selecr=ted randomly and then some values are given 0 indicating the missing values of puzzle\n",
    "def Generate_Board():\n",
    "    board=[[0 for j in range(9)] for i in range(9)]\n",
    "\n",
    "\n",
    "    for i in range(0, 9, 1):\n",
    "        for j in range(0, 9, 1):\n",
    "            value=get_value(board,i,j)\n",
    "            if not value:\n",
    "                return Generate_Board()\n",
    "            board[i][j]=random.choice(value)\n",
    "\n",
    "\n",
    "    count=0\n",
    "    while True:\n",
    "        count+=1\n",
    "        i = random.randint(0, 8)\n",
    "        j = random.randint(0, 8)\n",
    "        board[i][j]=0\n",
    "        if count >= 20:\n",
    "            break\n",
    "\n",
    "    return board\n"
   ]
  },
  {
   "cell_type": "code",
   "execution_count": 5,
   "metadata": {},
   "outputs": [],
   "source": [
    "#Function to display the board\n",
    "\n",
    "def Display_Board(board):\n",
    "    if board is None:\n",
    "        return\n",
    "    \n",
    "    for i in board:\n",
    "        for j in i:\n",
    "            print(j, end=\" | \")\n",
    "        print(\"\\n-----------------------------------\")\n"
   ]
  },
  {
   "cell_type": "code",
   "execution_count": 6,
   "metadata": {},
   "outputs": [],
   "source": [
    "#Function to find total missing values\n",
    "def Find_Missing_Values(board):\n",
    "    count=0\n",
    "    for i in range(9):\n",
    "        for j in range(9):\n",
    "            if board[i][j]==0:\n",
    "                count+=1\n",
    "            \n",
    "    return count"
   ]
  },
  {
   "cell_type": "code",
   "execution_count": 7,
   "metadata": {},
   "outputs": [],
   "source": [
    "#Function to check if the row is valid\n",
    "def check_row(board, row):\n",
    "    used = set()\n",
    "    for i in range(9):\n",
    "        if board[row][i] == 0:\n",
    "            return False\n",
    "        if board[row][i] in used:\n",
    "            return False\n",
    "        used.add(board[row][i])\n",
    "    return True\n"
   ]
  },
  {
   "cell_type": "code",
   "execution_count": 8,
   "metadata": {},
   "outputs": [],
   "source": [
    "#Function to check if the column is valid\n",
    "def check_col(board, col):\n",
    "    used = set()\n",
    "    for i in range(9):\n",
    "        if board[i][col] == 0:\n",
    "            return False\n",
    "        if board[i][col] in used:\n",
    "            return False\n",
    "        used.add(board[i][col])\n",
    "    return True\n"
   ]
  },
  {
   "cell_type": "code",
   "execution_count": 9,
   "metadata": {},
   "outputs": [],
   "source": [
    "#Function to check if the subgrid is valid\n",
    "def check_box(board, box):\n",
    "    used = set()\n",
    "    box_row, box_col = (box // 3) * 3, (box % 3) * 3\n",
    "    for i in range(box_row, box_row + 3):\n",
    "        for j in range(box_col, box_col + 3):\n",
    "            if board[i][j] == 0:\n",
    "                return False\n",
    "            if board[i][j] in used:\n",
    "                return False\n",
    "            used.add(board[i][j])\n",
    "    return True\n"
   ]
  },
  {
   "cell_type": "code",
   "execution_count": 10,
   "metadata": {},
   "outputs": [],
   "source": [
    "#Function to find next empty space\n",
    "def next_empty(board):\n",
    "    for i in range(9):\n",
    "        for j in range(9):\n",
    "            if board[i][j] == 0:\n",
    "                return i, j\n"
   ]
  },
  {
   "cell_type": "code",
   "execution_count": 11,
   "metadata": {},
   "outputs": [],
   "source": [
    "#Function to check if the goal state has reached\n",
    "def is_goal(board):\n",
    "    for i in range(9):\n",
    "        if not check_row(board, i) or not check_col(board, i) or not check_box(board, i):\n",
    "            return False\n",
    "    return True"
   ]
  },
  {
   "cell_type": "code",
   "execution_count": 12,
   "metadata": {},
   "outputs": [],
   "source": [
    "#Function to solve using dfs\n",
    "def DFS(board):\n",
    "    for i in range(9):\n",
    "        for j in range(9):\n",
    "            if board[i][j] == 0:\n",
    "                candidates = get_value(board, i, j)\n",
    "                if not candidates:\n",
    "                    return False\n",
    "                for candidate in candidates:\n",
    "                    board[i][j] = candidate\n",
    "                    if DFS(board):\n",
    "                        return True\n",
    "                    board[i][j] = 0\n",
    "                return False\n",
    "    return True\n"
   ]
  },
  {
   "cell_type": "code",
   "execution_count": 13,
   "metadata": {},
   "outputs": [],
   "source": [
    "#Function to solve using dfs using depth as heuristic\n",
    "def DFS_H(board):\n",
    "    queue = [(board, 0)]\n",
    "    while queue:\n",
    "        state, depth = queue.pop(0)\n",
    "        if is_goal(state):\n",
    "            return state\n",
    "        if depth < 81:\n",
    "            i, j = next_empty(state)\n",
    "            candidates = get_value(state, i, j)\n",
    "            if candidates:\n",
    "                for c in candidates:\n",
    "                    new_state = [row[:] for row in state]\n",
    "                    new_state[i][j] = c\n",
    "                    queue.append((new_state, depth + 1))\n",
    "    return None"
   ]
  },
  {
   "cell_type": "code",
   "execution_count": 14,
   "metadata": {},
   "outputs": [],
   "source": [
    "def solve(board):\n",
    "    if DFS(board):\n",
    "        return board"
   ]
  },
  {
   "cell_type": "code",
   "execution_count": 15,
   "metadata": {},
   "outputs": [
    {
     "name": "stdout",
     "output_type": "stream",
     "text": [
      "GENERATED BOARD : \n",
      "3 | 6 | 4 | 2 | 7 | 0 | 1 | 5 | 8 | \n",
      "-----------------------------------\n",
      "1 | 8 | 5 | 4 | 3 | 6 | 0 | 2 | 9 | \n",
      "-----------------------------------\n",
      "2 | 0 | 7 | 1 | 8 | 0 | 4 | 3 | 6 | \n",
      "-----------------------------------\n",
      "0 | 2 | 3 | 7 | 0 | 1 | 6 | 8 | 5 | \n",
      "-----------------------------------\n",
      "5 | 1 | 6 | 0 | 9 | 8 | 2 | 4 | 0 | \n",
      "-----------------------------------\n",
      "7 | 0 | 8 | 5 | 6 | 0 | 9 | 1 | 3 | \n",
      "-----------------------------------\n",
      "6 | 3 | 1 | 8 | 0 | 7 | 5 | 0 | 4 | \n",
      "-----------------------------------\n",
      "8 | 5 | 9 | 6 | 1 | 4 | 3 | 7 | 2 | \n",
      "-----------------------------------\n",
      "4 | 0 | 2 | 0 | 0 | 0 | 0 | 0 | 1 | \n",
      "-----------------------------------\n",
      "TOTAL MISSING VALUES : 18\n",
      "SOLVING THE BOARD BY USING DFS: \n",
      "3 | 6 | 4 | 2 | 7 | 9 | 1 | 5 | 8 | \n",
      "-----------------------------------\n",
      "1 | 8 | 5 | 4 | 3 | 6 | 7 | 2 | 9 | \n",
      "-----------------------------------\n",
      "2 | 9 | 7 | 1 | 8 | 5 | 4 | 3 | 6 | \n",
      "-----------------------------------\n",
      "9 | 2 | 3 | 7 | 4 | 1 | 6 | 8 | 5 | \n",
      "-----------------------------------\n",
      "5 | 1 | 6 | 3 | 9 | 8 | 2 | 4 | 7 | \n",
      "-----------------------------------\n",
      "7 | 4 | 8 | 5 | 6 | 2 | 9 | 1 | 3 | \n",
      "-----------------------------------\n",
      "6 | 3 | 1 | 8 | 2 | 7 | 5 | 9 | 4 | \n",
      "-----------------------------------\n",
      "8 | 5 | 9 | 6 | 1 | 4 | 3 | 7 | 2 | \n",
      "-----------------------------------\n",
      "4 | 7 | 2 | 9 | 5 | 3 | 8 | 6 | 1 | \n",
      "-----------------------------------\n",
      "SOLVING THE BOARD BY USING A_star: \n",
      "3 | 6 | 4 | 2 | 7 | 9 | 1 | 5 | 8 | \n",
      "-----------------------------------\n",
      "1 | 8 | 5 | 4 | 3 | 6 | 7 | 2 | 9 | \n",
      "-----------------------------------\n",
      "2 | 9 | 7 | 1 | 8 | 5 | 4 | 3 | 6 | \n",
      "-----------------------------------\n",
      "9 | 2 | 3 | 7 | 4 | 1 | 6 | 8 | 5 | \n",
      "-----------------------------------\n",
      "5 | 1 | 6 | 3 | 9 | 8 | 2 | 4 | 7 | \n",
      "-----------------------------------\n",
      "7 | 4 | 8 | 5 | 6 | 2 | 9 | 1 | 3 | \n",
      "-----------------------------------\n",
      "6 | 3 | 1 | 8 | 2 | 7 | 5 | 9 | 4 | \n",
      "-----------------------------------\n",
      "8 | 5 | 9 | 6 | 1 | 4 | 3 | 7 | 2 | \n",
      "-----------------------------------\n",
      "4 | 7 | 2 | 9 | 5 | 3 | 8 | 6 | 1 | \n",
      "-----------------------------------\n"
     ]
    }
   ],
   "source": [
    "print('GENERATED BOARD : ')\n",
    "Board=Generate_Board()\n",
    "Display_Board(Board)\n",
    "\n",
    "\n",
    "count=Find_Missing_Values(Board)\n",
    "print(\"TOTAL MISSING VALUES : \" + str(count))\n",
    "\n",
    "\n",
    "print('SOLVING THE BOARD BY USING DFS: ')\n",
    "solve(Board)\n",
    "Display_Board(Board)\n",
    "\n",
    "\n",
    "print('SOLVING THE BOARD BY USING A_star: ')\n",
    "Board1=DFS_H(Board)\n",
    "Display_Board(Board1)"
   ]
  }
 ],
 "metadata": {
  "kernelspec": {
   "display_name": "base",
   "language": "python",
   "name": "python3"
  },
  "language_info": {
   "codemirror_mode": {
    "name": "ipython",
    "version": 3
   },
   "file_extension": ".py",
   "mimetype": "text/x-python",
   "name": "python",
   "nbconvert_exporter": "python",
   "pygments_lexer": "ipython3",
   "version": "3.9.16"
  },
  "orig_nbformat": 4,
  "vscode": {
   "interpreter": {
    "hash": "d9e5fd6c8a29afcecdd5d787d9e807410d1dd39b664dd30d7a9fc192dfc644c1"
   }
  }
 },
 "nbformat": 4,
 "nbformat_minor": 2
}
